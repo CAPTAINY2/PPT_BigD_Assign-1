{
  "nbformat": 4,
  "nbformat_minor": 0,
  "metadata": {
    "colab": {
      "provenance": [],
      "authorship_tag": "ABX9TyMns9qqxHWHjkJxse4Lxa1b",
      "include_colab_link": true
    },
    "kernelspec": {
      "name": "python3",
      "display_name": "Python 3"
    },
    "language_info": {
      "name": "python"
    }
  },
  "cells": [
    {
      "cell_type": "markdown",
      "metadata": {
        "id": "view-in-github",
        "colab_type": "text"
      },
      "source": [
        "<a href=\"https://colab.research.google.com/github/CAPTAINY2/PPT_BigD_Assign-1/blob/main/PPT_BigD_Ass_1.ipynb\" target=\"_parent\"><img src=\"https://colab.research.google.com/assets/colab-badge.svg\" alt=\"Open In Colab\"/></a>"
      ]
    },
    {
      "cell_type": "markdown",
      "source": [
        "### QUESTION-1"
      ],
      "metadata": {
        "id": "CTLJVADNxDKq"
      }
    },
    {
      "cell_type": "code",
      "execution_count": 4,
      "metadata": {
        "colab": {
          "base_uri": "https://localhost:8080/"
        },
        "id": "sApSTE5JWB2D",
        "outputId": "4cfbd39c-938d-4295-974d-557e13208e06"
      },
      "outputs": [
        {
          "output_type": "stream",
          "name": "stdout",
          "text": [
            "Begin and Being are anagrams.\n"
          ]
        }
      ],
      "source": [
        "string1 = \"Begin\"\n",
        "string2 = \"Being\"\n",
        "\n",
        "def anagram(str1, str2):\n",
        "    str1 = str1.lower().replace(\" \", \"\")\n",
        "    str2 = str2.lower().replace(\" \", \"\")\n",
        "\n",
        "    if len(str1) != len(str2):\n",
        "        return False\n",
        "\n",
        "    count1 = {}\n",
        "    count2 = {}\n",
        "\n",
        "    for i in str1:\n",
        "        count1[i] = count1.get(i, 0) + 1\n",
        "\n",
        "    for i in str2:\n",
        "        count2[i] = count2.get(i, 0) + 1\n",
        "\n",
        "    return count1 == count2\n",
        "\n",
        "if anagram(string1, string2):\n",
        "    print(f\"{string1} and {string2} are anagrams.\")\n",
        "else:\n",
        "    print(f\"{string1} and {string2} are not anagrams.\")\n"
      ]
    },
    {
      "cell_type": "markdown",
      "source": [
        "### QUESTION-2"
      ],
      "metadata": {
        "id": "mwwxrYzHYUbr"
      }
    },
    {
      "cell_type": "code",
      "source": [
        "dic = {\"a\": 10, \"b\": 5, \"c\": 20, \"d\": 15}\n",
        "\n",
        "def find(dictionary):\n",
        "    if not dictionary:\n",
        "        return None, None\n",
        "\n",
        "    values = dictionary.values()\n",
        "    maxx = max(values)\n",
        "    minn = min(values)\n",
        "\n",
        "    return maxx, minn\n",
        "\n",
        "max_val, min_val = find(dic)\n",
        "if max_val is not None and min_val is not None:\n",
        "    print(\"Maximum value:\",max_val )\n",
        "    print(\"Minimum value:\", min_val)\n",
        "else:\n",
        "    print(\"The dictionary is empty.\")\n"
      ],
      "metadata": {
        "colab": {
          "base_uri": "https://localhost:8080/"
        },
        "id": "CZSdpdPVWnmN",
        "outputId": "042dcedd-25cc-4f9a-fa5e-457424a0d02d"
      },
      "execution_count": 11,
      "outputs": [
        {
          "output_type": "stream",
          "name": "stdout",
          "text": [
            "Maximum value: 20\n",
            "Minimum value: 5\n"
          ]
        }
      ]
    },
    {
      "cell_type": "markdown",
      "source": [
        "### QUESTION-3"
      ],
      "metadata": {
        "id": "DKFPvypZeL1O"
      }
    },
    {
      "cell_type": "code",
      "source": [
        "list = [2, 4, 6, 8, 10]\n",
        "\n",
        "def average(numbers):\n",
        "    if not numbers:\n",
        "        return None\n",
        "\n",
        "    total = sum(numbers)\n",
        "    average = total / len(numbers)\n",
        "\n",
        "    return average\n",
        "avg = average(list)\n",
        "\n",
        "if avg is not None:\n",
        "    print(\"Average:\", avg)\n",
        "else:\n",
        "    print(\"The list is empty.\")\n"
      ],
      "metadata": {
        "colab": {
          "base_uri": "https://localhost:8080/"
        },
        "id": "OaCDsGNAcyUc",
        "outputId": "ba65836d-6523-4515-c8d4-5487d3f0154b"
      },
      "execution_count": 17,
      "outputs": [
        {
          "output_type": "stream",
          "name": "stdout",
          "text": [
            "Average: 6.0\n"
          ]
        }
      ]
    },
    {
      "cell_type": "markdown",
      "source": [
        "### QUESTION-4"
      ],
      "metadata": {
        "id": "besnGnXwgK2h"
      }
    },
    {
      "cell_type": "code",
      "source": [
        "str = \"Hello, World!\"\n",
        "\n",
        "def vowels(str):\n",
        "    vowels = \"aeiouAEIOU\"\n",
        "    without_vowels = \"\"\n",
        "\n",
        "    for i in str:\n",
        "        if i not in vowels:\n",
        "            without_vowels += i\n",
        "\n",
        "    return without_vowels\n",
        "\n",
        "print(\"String without vowels:\", vowels(str))\n"
      ],
      "metadata": {
        "colab": {
          "base_uri": "https://localhost:8080/"
        },
        "id": "r_m2b-R6eR_v",
        "outputId": "36e0f70b-2df1-477b-a91b-0b90e6540be8"
      },
      "execution_count": 19,
      "outputs": [
        {
          "output_type": "stream",
          "name": "stdout",
          "text": [
            "String without vowels: Hll, Wrld!\n"
          ]
        }
      ]
    },
    {
      "cell_type": "markdown",
      "source": [
        "### QUESTION-5"
      ],
      "metadata": {
        "id": "H4M2RdXwg0-s"
      }
    },
    {
      "cell_type": "code",
      "source": [
        "n = 6\n",
        "\n",
        "def factorial(n):\n",
        "    if n == 0 or n == 1:\n",
        "        return 1\n",
        "    else:\n",
        "        return n * factorial(n - 1)\n",
        "\n",
        "print(\"Factorial of\", n, \"is\", factorial(n))\n"
      ],
      "metadata": {
        "colab": {
          "base_uri": "https://localhost:8080/"
        },
        "id": "EW-3V5CfgWaX",
        "outputId": "959e56c3-d35a-4f32-f624-0c14793f9c07"
      },
      "execution_count": 20,
      "outputs": [
        {
          "output_type": "stream",
          "name": "stdout",
          "text": [
            "Factorial of 6 is 720\n"
          ]
        }
      ]
    },
    {
      "cell_type": "markdown",
      "source": [
        "### QUESTION-6"
      ],
      "metadata": {
        "id": "m5ClanEihW7e"
      }
    },
    {
      "cell_type": "code",
      "source": [
        "def merge(l, r):\n",
        "    merged = []\n",
        "    left = 0\n",
        "    right = 0\n",
        "\n",
        "    while left < len(l) and right < len(r):\n",
        "        if l[left] < r[right]:\n",
        "            merged.append(l[left])\n",
        "            left += 1\n",
        "        else:\n",
        "            merged.append(r[right])\n",
        "            right += 1\n",
        "\n",
        "    merged.extend(l[left:])\n",
        "    merged.extend(r[right:])\n",
        "\n",
        "    return merged\n",
        "\n",
        "\n",
        "def merge_sort(lst):\n",
        "    if len(lst) <= 1:\n",
        "        return lst\n",
        "\n",
        "    mid = len(lst) // 2\n",
        "    lt = lst[:mid]\n",
        "    rt = lst[mid:]\n",
        "\n",
        "    lt = merge_sort(lt)\n",
        "    rt = merge_sort(rt)\n",
        "\n",
        "    return merge(lt, rt)\n",
        "\n",
        "list1 = [5, 2, 9, 1, 7]\n",
        "list2 = [3, 8, 4, 6, 0]\n",
        "\n",
        "merged_list = merge_sort(list1 + list2)\n",
        "print(\"Merged and sorted list:\", merged_list)\n"
      ],
      "metadata": {
        "colab": {
          "base_uri": "https://localhost:8080/"
        },
        "id": "r543w3johUpo",
        "outputId": "9af00884-ae70-4c32-a2e5-452657d421ab"
      },
      "execution_count": 22,
      "outputs": [
        {
          "output_type": "stream",
          "name": "stdout",
          "text": [
            "Merged and sorted list: [0, 1, 2, 3, 4, 5, 6, 7, 8, 9]\n"
          ]
        }
      ]
    },
    {
      "cell_type": "markdown",
      "source": [
        "### QUESTION-7"
      ],
      "metadata": {
        "id": "Foi7E_9zlOAj"
      }
    },
    {
      "cell_type": "code",
      "source": [
        "a=36\n",
        "b=48\n",
        "\n",
        "def GCD(a, b):\n",
        "    while b != 0:\n",
        "        a, b = b, a % b\n",
        "    return a\n",
        "\n",
        "print(\"GCD of\", a, \"and\", b, \"is\", GCD(a, b))\n"
      ],
      "metadata": {
        "colab": {
          "base_uri": "https://localhost:8080/"
        },
        "id": "YVHGaI5-lJbX",
        "outputId": "e739e1a1-8a78-46ed-8cb1-c0a560bd27c8"
      },
      "execution_count": 26,
      "outputs": [
        {
          "output_type": "stream",
          "name": "stdout",
          "text": [
            "GCD of 36 and 48 is 12\n"
          ]
        }
      ]
    },
    {
      "cell_type": "markdown",
      "source": [
        "### QUESTION-8"
      ],
      "metadata": {
        "id": "2GHfTcX5xIQL"
      }
    },
    {
      "cell_type": "code",
      "source": [
        "list = [5, 2, 8, 9, 1, 7, 11]\n",
        "\n",
        "def findSec(lst):\n",
        "    if len(lst) < 2:\n",
        "        return None\n",
        "\n",
        "    max = float('-inf')\n",
        "    for i in lst:\n",
        "        if i > max:\n",
        "            max = i\n",
        "\n",
        "    sec_large = float('-inf')\n",
        "    for i in lst:\n",
        "        if i != max and i > sec_large:\n",
        "            sec_large = i\n",
        "\n",
        "    if sec_large == float('-inf'):\n",
        "        return None\n",
        "    else:\n",
        "        return sec_large\n",
        "\n",
        "if findSec(list) is not None:\n",
        "    print(\"Second largest element:\", findSec(list))\n",
        "else:\n",
        "    print(\"There is no second largest element.\")\n"
      ],
      "metadata": {
        "colab": {
          "base_uri": "https://localhost:8080/"
        },
        "id": "QuL-Tjq4lwSl",
        "outputId": "de17e79b-8e56-4899-da1f-890c43a59dfe"
      },
      "execution_count": 34,
      "outputs": [
        {
          "output_type": "stream",
          "name": "stdout",
          "text": [
            "Second largest element: 9\n"
          ]
        }
      ]
    },
    {
      "cell_type": "markdown",
      "source": [
        "### QUESTION-9"
      ],
      "metadata": {
        "id": "Yzz2aHhLxLkI"
      }
    },
    {
      "cell_type": "code",
      "source": [
        "string1 = \"ABCDGHI\"\n",
        "string2 = \"AEDFHIR\"\n",
        "\n",
        "def findLCS(str1, str2):\n",
        "    m = len(str1)\n",
        "    n = len(str2)\n",
        "\n",
        "    dp = [[0] * (n + 1) for _ in range(m + 1)]\n",
        "\n",
        "    for i in range(1, m + 1):\n",
        "        for j in range(1, n + 1):\n",
        "            if str1[i - 1] == str2[j - 1]:\n",
        "                dp[i][j] = dp[i - 1][j - 1] + 1\n",
        "            else:\n",
        "                dp[i][j] = max(dp[i - 1][j], dp[i][j - 1])\n",
        "\n",
        "    lcs = \"\"\n",
        "    i, j = m, n\n",
        "    while i > 0 and j > 0:\n",
        "        if str1[i - 1] == str2[j - 1]:\n",
        "            lcs = str1[i - 1] + lcs\n",
        "            i -= 1\n",
        "            j -= 1\n",
        "        elif dp[i - 1][j] > dp[i][j - 1]:\n",
        "            i -= 1\n",
        "        else:\n",
        "            j -= 1\n",
        "\n",
        "    return lcs\n",
        "\n",
        "lcs = findLCS(string1, string2)\n",
        "print(\"Longest Common Subsequence:\", lcs)\n"
      ],
      "metadata": {
        "colab": {
          "base_uri": "https://localhost:8080/"
        },
        "id": "vfDaCwt8p3Ge",
        "outputId": "c55261c1-3d0c-43d6-aa1c-ff20928df9ce"
      },
      "execution_count": 37,
      "outputs": [
        {
          "output_type": "stream",
          "name": "stdout",
          "text": [
            "Longest Common Subsequence: ADHI\n"
          ]
        }
      ]
    },
    {
      "cell_type": "code",
      "source": [],
      "metadata": {
        "id": "t81s0uN3wwjV"
      },
      "execution_count": null,
      "outputs": []
    }
  ]
}